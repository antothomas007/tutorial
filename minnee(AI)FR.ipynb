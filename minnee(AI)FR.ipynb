{
 "cells": [
  {
   "cell_type": "code",
   "execution_count": 1,
   "id": "78efe38d",
   "metadata": {},
   "outputs": [],
   "source": [
    "#ARTIFICIAL INTELLIGENCE"
   ]
  },
  {
   "cell_type": "code",
   "execution_count": 10,
   "id": "d8b4f30e",
   "metadata": {},
   "outputs": [],
   "source": [
    "import cv2\n",
    "import numpy as np\n",
    "#green = (0, 255, 0)\n",
    "canvas = np.zeros((500, 500, 3), dtype=\"uint8\")#gray image\n",
    "\n",
    "cv2.rectangle(canvas, (100, 10), (80,80), (0,170,160),3)\n",
    "cv2.imshow(\"Canvas\",canvas)\n",
    "cv2.waitKey()\n",
    "cv2.destroyAllWindows()"
   ]
  },
  {
   "cell_type": "code",
   "execution_count": 13,
   "id": "61fdc6fd",
   "metadata": {},
   "outputs": [],
   "source": [
    "red = (0, 0, 255)\n",
    "canvas = np.zeros((500, 500, 3), dtype=\"uint8\")\n",
    "cv2.line(canvas, (0,200), (150,200), red,12)\n",
    "cv2.imshow(\"Canvas\", canvas)\n",
    "cv2.waitKey()\n",
    "cv2.destroyAllWindows()\n"
   ]
  },
  {
   "cell_type": "code",
   "execution_count": 14,
   "id": "90c6d1a8",
   "metadata": {},
   "outputs": [],
   "source": [
    "cv2.rectangle(canvas, (10, 10), (80, 80), (0,255,0),-2)\n",
    "cv2.imshow(\"Canvas\", canvas)\n",
    "cv2.waitKey(0)\n",
    "cv2.destroyAllWindows()"
   ]
  },
  {
   "cell_type": "code",
   "execution_count": null,
   "id": "8e208d0b",
   "metadata": {},
   "outputs": [],
   "source": [
    "cv2.rectangle(canvas, (50, 200), (200, 225), red, -2)\n",
    "cv2.imshow(\"Canvas\", canvas)\n",
    "cv2.waitKey(0)\n",
    "cv2.destroyAllWindows()"
   ]
  },
  {
   "cell_type": "code",
   "execution_count": 15,
   "id": "a4be12c7",
   "metadata": {},
   "outputs": [],
   "source": [
    "blue = (255, 0, 0)\n",
    "cv2.rectangle(canvas, (200, 50), (225, 125), blue,10)\n",
    "cv2.imshow(\"Canvas\", canvas)\n",
    "cv2.waitKey(0)\n",
    "cv2.destroyAllWindows()"
   ]
  },
  {
   "cell_type": "code",
   "execution_count": 18,
   "id": "abcdbbd4",
   "metadata": {},
   "outputs": [],
   "source": [
    "import numpy as np\n",
    "import cv2\n",
    "my_img = np.zeros((400, 400,3), dtype = \"uint8\")\n",
    "# creating circle\n",
    "cv2.circle(my_img, (100, 200), 80, (0, 0, 255), -10)\n",
    "cv2.imshow('Window', my_img)\n",
    "cv2.waitKey(0)\n",
    "cv2.destroyAllWindows()"
   ]
  },
  {
   "cell_type": "code",
   "execution_count": 21,
   "id": "8ab95a9c",
   "metadata": {},
   "outputs": [],
   "source": [
    "#polyline\n",
    "\n",
    "import cv2\n",
    "import numpy as np\n",
    "\n",
    "# load the input image\n",
    "#img = cv2.imread('nature_waterfall.jpg')\n",
    "my_img = np.zeros((500, 500,3), dtype = \"uint8\")\n",
    "\n",
    "# define an array of three points on image to draw the polylines\n",
    "# shape of point array [3,2]\n",
    "points = np.array([[155,320],[250,420],[345,50]])\n",
    "\n",
    "# reshape the point array to make it 3D\n",
    "pts = points.reshape(-1,1,2) # now shape [3,1,2]\n",
    "\n",
    "# draw polylines on the image, passing desired values of the arguments\n",
    "img_poly = cv2.polylines(my_img, [pts], isClosed=False, color=(255,0,0), thickness = 2)\n",
    "\n",
    "# display the image with drawn polylines\n",
    "cv2.imshow(\"Polylines\", img_poly)\n",
    "cv2.waitKey(0)\n",
    "cv2.destroyAllWindows()\n"
   ]
  },
  {
   "cell_type": "code",
   "execution_count": 22,
   "id": "e9ac0cc4",
   "metadata": {},
   "outputs": [],
   "source": [
    "# load the input image\n",
    "img = cv2.imread(r'C:\\Users\\DS\\Downloads\\bikee.jpeg')\n",
    "\n",
    "points = np.array([[155,320],[250,420],[345,50]])\n",
    "pts = points.reshape(-1,1,2) # now shape [3,1,2]\n",
    "\n",
    "img_poly = cv2.polylines(img, [pts], isClosed=True, color=(255,0,0), thickness = 2)\n",
    "\n",
    "cv2.imshow(\"Polylines\", img_poly)\n",
    "cv2.waitKey(0)\n",
    "cv2.destroyAllWindows()"
   ]
  },
  {
   "cell_type": "code",
   "execution_count": 10,
   "id": "30102546",
   "metadata": {},
   "outputs": [],
   "source": [
    "import cv2\n",
    "import numpy as np   \n",
    "    \n",
    "# Reading an image in default mode\n",
    "img = np.zeros((400, 400,3), dtype = \"uint8\")\n",
    "    \n",
    "# Window name in which image is displayed\n",
    "window_name = 'Image'\n",
    "   \n",
    "center_coordinates = (120, 100)\n",
    "  \n",
    "axesLength = (100, 50)\n",
    "  \n",
    "angle = 90\n",
    "  \n",
    "startAngle = 0\n",
    "  \n",
    "endAngle = 350\n",
    "   \n",
    "# Blue color in BGR\n",
    "color = (180, 200, 200)\n",
    "   \n",
    "# Line thickness of -1 px\n",
    "thickness = -1\n",
    "   \n",
    "# Using cv2.ellipse() method\n",
    "# Draw a ellipse with blue line borders of thickness of -1 px\n",
    "image = cv2.ellipse(img, center_coordinates, axesLength, angle,\n",
    "                          startAngle, endAngle, color, thickness)\n",
    "   \n",
    "# Displaying the image\n",
    "cv2.imshow(window_name,image) \n",
    "cv2.waitKey(0)\n",
    "cv2.destroyAllWindows()"
   ]
  },
  {
   "cell_type": "code",
   "execution_count": null,
   "id": "be9919e0",
   "metadata": {},
   "outputs": [],
   "source": [
    "#image processing"
   ]
  },
  {
   "cell_type": "code",
   "execution_count": 1,
   "id": "9d4031f3",
   "metadata": {},
   "outputs": [],
   "source": [
    "import cv2\n",
    "img=cv2.imread(r'C:\\Users\\DS\\Downloads\\india.jpg')\n",
    "cv2.imshow('IMAGE',img)\n",
    "k=cv2.waitKey()\n",
    "if k==27:\n",
    "    cv2.destroyAllWindows()"
   ]
  },
  {
   "cell_type": "code",
   "execution_count": 2,
   "id": "17c292c5",
   "metadata": {},
   "outputs": [],
   "source": [
    "img=cv2.imread(r'C:\\Users\\DS\\Downloads\\india.jpg')\n",
    "a=cv2.resize(img,(300,300))\n",
    "cv2.imshow('IMAGE',a)\n",
    "k=cv2.waitKey()\n",
    "if k==27:\n",
    "    cv2.destroyAllWindows()"
   ]
  },
  {
   "cell_type": "code",
   "execution_count": 6,
   "id": "72ebe9ff",
   "metadata": {},
   "outputs": [],
   "source": [
    "img=cv2.imread(r'C:\\Users\\DS\\Downloads\\india.jpg')\n",
    "cv2.imshow(\"india\",img)\n",
    "k=cv2.waitKey()\n",
    "if k==27:\n",
    "    cv2.destroyAllWindows()\n",
    "elif k==ord('s'):\n",
    "    cv2.imwrite(r\"C:\\Users\\DS\\Desktop\\aa.jpg\",img)\n",
    "    cv2.destroyAllWindows()"
   ]
  },
  {
   "cell_type": "code",
   "execution_count": 7,
   "id": "f77ada40",
   "metadata": {},
   "outputs": [],
   "source": [
    "img=cv2.imread(r'C:\\Users\\DS\\Downloads\\india.jpg')\n",
    "imggrey=cv2.cvtColor(img,cv2.COLOR_BGR2GRAY)\n",
    "a=cv2.resize(imggrey,(300,300))\n",
    "cv2.imshow('IMAGE',a)\n",
    "k=cv2.waitKey()\n",
    "if k==27:\n",
    "    cv2.destroyAllWindows()\n",
    "    "
   ]
  },
  {
   "cell_type": "code",
   "execution_count": 8,
   "id": "eef27409",
   "metadata": {},
   "outputs": [
    {
     "data": {
      "text/plain": [
       "<matplotlib.image.AxesImage at 0x1ad042d2b90>"
      ]
     },
     "execution_count": 8,
     "metadata": {},
     "output_type": "execute_result"
    },
    {
     "data": {
      "image/png": "[encoded data removed]",
      "text/plain": [
       "<Figure size 640x480 with 1 Axes>"
      ]
     },
     "metadata": {},
     "output_type": "display_data"
    }
   ],
   "source": [
    "import matplotlib.pyplot as plt\n",
    "plt.xticks([]),plt.yticks([])\n",
    "plt.title(\"ANTO\")\n",
    "plt.imshow(img)"
   ]
  },
  {
   "cell_type": "code",
   "execution_count": 9,
   "id": "e4013529",
   "metadata": {},
   "outputs": [
    {
     "name": "stdout",
     "output_type": "stream",
     "text": [
      "<class 'numpy.ndarray'>\n",
      "(372, 369, 3)\n",
      "uint8\n",
      "0\n",
      "255\n",
      "411804\n"
     ]
    }
   ],
   "source": [
    "print(type(img))\n",
    "print(img.shape)\n",
    "print(img.dtype)\n",
    "print(img.min())\n",
    "print(img.max())\n",
    "print(img.size)"
   ]
  },
  {
   "cell_type": "code",
   "execution_count": 24,
   "id": "f31c7d6a",
   "metadata": {},
   "outputs": [
    {
     "data": {
      "text/plain": [
       "Text(0.5, 1.0, 'india')"
      ]
     },
     "execution_count": 24,
     "metadata": {},
     "output_type": "execute_result"
    },
    {
     "data": {
      "image/png": "[encoded data removed]",
      "text/plain": [
       "<Figure size 640x480 with 1 Axes>"
      ]
     },
     "metadata": {},
     "output_type": "display_data"
    }
   ],
   "source": [
    "img2=cv2.cvtColor(img,cv2.COLOR_BGR2RGB)\n",
    "plt.xticks([]),plt.yticks([])\n",
    "plt.imshow(img2)\n",
    "plt.title(\"india\")"
   ]
  },
  {
   "cell_type": "code",
   "execution_count": 10,
   "id": "889efd64",
   "metadata": {},
   "outputs": [],
   "source": [
    "a=cv2.imread(r'C:\\Users\\DS\\Downloads\\india.jpg')\n",
    "b=cv2.imread(r'C:\\Users\\ds\\Downloads\\gandi.jpg')\n",
    "a=cv2.resize(a,(300,300))\n",
    "b=cv2.resize(b,(300,300))\n",
    "blend=cv2.addWeighted(a,0.6,b,0.5,0)\n",
    "cv2.imshow('image',blend)\n",
    "k=cv2.waitKey()\n",
    "if k==27:\n",
    "    cv2.destroyAllWindows()"
   ]
  },
  {
   "cell_type": "code",
   "execution_count": 11,
   "id": "d95b57b1",
   "metadata": {},
   "outputs": [],
   "source": [
    "#edge detection\n",
    "\n",
    "img=cv2.imread(r'C:\\Users\\DS\\Downloads\\india.jpg')\n",
    "a=cv2.resize(img,(300,300))\n",
    "imgcanny=cv2.Canny(a,100,200)\n",
    "cv2.imshow('IMAGE',imgcanny)\n",
    "k=cv2.waitKey()\n",
    "if k==27:\n",
    "    cv2.destroyAllWindows()"
   ]
  },
  {
   "cell_type": "code",
   "execution_count": 12,
   "id": "5c50fa8f",
   "metadata": {},
   "outputs": [
    {
     "name": "stdout",
     "output_type": "stream",
     "text": [
      "(372, 369, 3)\n"
     ]
    }
   ],
   "source": [
    "#cropping\n",
    "img=cv2.imread(r'C:\\Users\\DS\\Downloads\\india.jpg')\n",
    "print(img.shape)\n",
    "crop=img[50:800,100:600]\n",
    "cv2.imshow('image',crop)\n",
    "k=cv2.waitKey()\n",
    "if k==27:\n",
    "    cv2.destroyAllWindows()"
   ]
  },
  {
   "cell_type": "code",
   "execution_count": 1,
   "id": "8b84a0c9",
   "metadata": {},
   "outputs": [],
   "source": [
    "#crop\n",
    "import numpy as np\n",
    "import cv2\n",
    "image=cv2.imread(r'C:\\Users\\DS\\Downloads\\india.jpg')\n",
    "width,height=250,350#new image height and width\n",
    "point1=np.float32([[150,500],[200,200],[230,482],[230,440]])#croping portion image size\n",
    "point2=np.float32([[0,0],[width,0],[0,height],[width,height]])#cropped image size\n",
    "matrix=cv2.getPerspectiveTransform(point1,point2)#3d to 2d\n",
    "output=cv2.warpPerspective(image,matrix,(width,height))\n",
    "cv2.imshow(\"image\",image)\n",
    "cv2.imshow(\"output\",output)\n",
    "k=cv2.waitKey()\n",
    "if k==27:\n",
    "    cv2.destroyAllWindows()"
   ]
  },
  {
   "cell_type": "code",
   "execution_count": null,
   "id": "4a433044",
   "metadata": {},
   "outputs": [],
   "source": [
    "#QR CODE GENERATOR"
   ]
  },
  {
   "cell_type": "code",
   "execution_count": 5,
   "id": "31b24137",
   "metadata": {},
   "outputs": [
    {
     "name": "stdout",
     "output_type": "stream",
     "text": [
      "Collecting pyqrcodeNote: you may need to restart the kernel to use updated packages.\n",
      "\n",
      "  Downloading PyQRCode-1.2.1.zip (41 kB)\n",
      "     ---------------------------------------- 41.9/41.9 kB 1.0 MB/s eta 0:00:00\n",
      "  Preparing metadata (setup.py): started\n",
      "  Preparing metadata (setup.py): finished with status 'done'\n",
      "Building wheels for collected packages: pyqrcode\n",
      "  Building wheel for pyqrcode (setup.py): started\n",
      "  Building wheel for pyqrcode (setup.py): finished with status 'done'\n",
      "  Created wheel for pyqrcode: filename=PyQRCode-1.2.1-py3-none-any.whl size=36240 sha256=99129c6619765c42d867e9899e7036504f01db35040e6b95a11bbc3984973a05\n",
      "  Stored in directory: c:\\users\\ds\\appdata\\local\\pip\\cache\\wheels\\78\\19\\3c\\222640a44eb962b726eca6571852559c4f653813af9118f66e\n",
      "Successfully built pyqrcode\n",
      "Installing collected packages: pyqrcode\n",
      "Successfully installed pyqrcode-1.2.1\n"
     ]
    }
   ],
   "source": [
    "pip install pyqrcode"
   ]
  },
  {
   "cell_type": "code",
   "execution_count": 7,
   "id": "9ad77a36",
   "metadata": {},
   "outputs": [
    {
     "name": "stdout",
     "output_type": "stream",
     "text": [
      "Requirement already satisfied: pypng in c:\\users\\ds\\appdata\\local\\anaconda3\\lib\\site-packages (0.20220715.0)\n",
      "Note: you may need to restart the kernel to use updated packages.\n"
     ]
    }
   ],
   "source": [
    "pip install pypng"
   ]
  },
  {
   "cell_type": "code",
   "execution_count": 24,
   "id": "2485c3d7",
   "metadata": {},
   "outputs": [
    {
     "ename": "SyntaxError",
     "evalue": "(unicode error) 'unicodeescape' codec can't decode bytes in position 2-3: truncated \\UXXXXXXXX escape (3917422249.py, line 14)",
     "output_type": "error",
     "traceback": [
      "\u001b[1;36m  Cell \u001b[1;32mIn[24], line 14\u001b[1;36m\u001b[0m\n\u001b[1;33m    url.svg(\"C:\\Users\\DS\\Downloads\\myqr.png\", scale = 8)\u001b[0m\n\u001b[1;37m                                            ^\u001b[0m\n\u001b[1;31mSyntaxError\u001b[0m\u001b[1;31m:\u001b[0m (unicode error) 'unicodeescape' codec can't decode bytes in position 2-3: truncated \\UXXXXXXXX escape\n"
     ]
    }
   ],
   "source": [
    "# Import QRCode from pyqrcode \n",
    "import pyqrcode \n",
    "import png \n",
    "from pyqrcode import QRCode \n",
    "  \n",
    "  \n",
    "# String which represents the QR code \n",
    "s = \"https://en.wikipedia.org/wiki/The_Alchemist_(novel)\"\n",
    "  \n",
    "# Generate QR code \n",
    "url = pyqrcode.create(s) \n",
    "  \n",
    "# Create and save the svg file naming \"myqr.svg\" \n",
    "url.svg(\"C:\\Users\\DS\\Downloads\\myqr.png\", scale = 8) \n",
    "  \n",
    "# Create and save the png file naming \"myqr.png\" \n",
    "url.png('myqr.png', scale = 6) "
   ]
  },
  {
   "cell_type": "code",
   "execution_count": 14,
   "id": "ac4f03cb",
   "metadata": {},
   "outputs": [],
   "source": [
    "import pyqrcode \n",
    "import png \n",
    "from pyqrcode import QRCode \n",
    "import matplotlib.pyplot as plt\n",
    "import qrcode"
   ]
  },
  {
   "cell_type": "code",
   "execution_count": 16,
   "id": "d1b01b3a",
   "metadata": {},
   "outputs": [
    {
     "data": {
      "text/plain": [
       "<matplotlib.image.AxesImage at 0x260fe138bb0>"
      ]
     },
     "execution_count": 16,
     "metadata": {},
     "output_type": "execute_result"
    },
    {
     "data": {
      "image/png": "[encoded data removed]",
      "text/plain": [
       "<Figure size 640x480 with 1 Axes>"
      ]
     },
     "metadata": {},
     "output_type": "display_data"
    }
   ],
   "source": [
    "#URL\n",
    "data=\"https://en.wikipedia.org/wiki/The_Alchemist_(novel)\"\n",
    "#OR\n",
    "filename=\"myqr.png\"\n",
    "#generating qr\n",
    "image= qrcode.make(data)\n",
    "\n",
    "image.save(filename)\n",
    "plt.imshow(image,cmap='gray')"
   ]
  },
  {
   "cell_type": "code",
   "execution_count": null,
   "id": "cddb0873",
   "metadata": {},
   "outputs": [],
   "source": [
    "#Smoothing and Blurring"
   ]
  },
  {
   "cell_type": "code",
   "execution_count": 25,
   "id": "48da331c",
   "metadata": {},
   "outputs": [],
   "source": [
    "import cv2 \n",
    "import numpy as np\n",
    "from matplotlib import pyplot as plt\n",
    "img = cv2.imread(r'C:\\Users\\DS\\Downloads\\india.jpg')\n",
    "cv2.imshow('india',img)\n",
    "cv2.waitKey()\n",
    "cv2.destroyAllWindows()"
   ]
  },
  {
   "cell_type": "code",
   "execution_count": 26,
   "id": "40aae1ad",
   "metadata": {},
   "outputs": [],
   "source": [
    "import cv2 \n",
    "import numpy as np\n",
    "from matplotlib import pyplot as plt\n",
    "img = cv2.imread(r'C:\\Users\\DS\\Downloads\\india.jpg')\n",
    "blur = cv2.blur(img,(10,10))\n",
    "cv2.imshow('blurring',blur)\n",
    "cv2.waitKey()\n",
    "cv2.destroyAllWindows()"
   ]
  },
  {
   "cell_type": "code",
   "execution_count": 5,
   "id": "717fe604",
   "metadata": {},
   "outputs": [],
   "source": [
    "import cv2\n",
    "img = cv2.imread(r'C:\\Users\\DS\\Downloads\\india.jpg')\n",
    "g=cv2.GaussianBlur(img,(77,77),0)\n",
    "cv2.imshow('Gaussuian Bluring',g)\n",
    "cv2.waitKey()\n",
    "cv2.destroyAllWindows()"
   ]
  },
  {
   "cell_type": "code",
   "execution_count": 2,
   "id": "d5d615a4",
   "metadata": {},
   "outputs": [],
   "source": [
    "import cv2\n",
    "img = cv2.imread(r'C:\\Users\\DS\\Downloads\\india.jpg')\n",
    "m=cv2.medianBlur(img,7)\n",
    "cv2.imshow('Median Blurring',m)\n",
    "cv2.waitKey()\n",
    "cv2.destroyAllWindows()"
   ]
  },
  {
   "cell_type": "code",
   "execution_count": 1,
   "id": "f22a1786",
   "metadata": {},
   "outputs": [],
   "source": [
    "#The bilateral filter can reduce unwanted noise very well while keeping edges sharp. \n",
    "import cv2\n",
    "img = cv2.imread(r'C:\\Users\\DS\\Downloads\\india.jpg')\n",
    "blur = cv2.bilateralFilter(img,90,75,75)\n",
    "cv2.imshow('bilateralFilter',blur)\n",
    "cv2.waitKey()\n",
    "cv2.destroyAllWindows()"
   ]
  },
  {
   "cell_type": "code",
   "execution_count": null,
   "id": "3857b843",
   "metadata": {},
   "outputs": [],
   "source": [
    "#FACE DETECTION"
   ]
  },
  {
   "cell_type": "code",
   "execution_count": 11,
   "id": "35348016",
   "metadata": {},
   "outputs": [],
   "source": [
    "import cv2"
   ]
  },
  {
   "cell_type": "code",
   "execution_count": 15,
   "id": "48785db6",
   "metadata": {},
   "outputs": [],
   "source": [
    "face_cascade=cv2.CascadeClassifier(r'C:\\Users\\DS\\Downloads\\haarcascade_frontalface_default.xml')"
   ]
  },
  {
   "cell_type": "code",
   "execution_count": 30,
   "id": "a4a24132",
   "metadata": {},
   "outputs": [],
   "source": [
    "img=cv2.imread(r'C:\\Users\\DS\\Downloads\\pp2.jpg')\n",
    "mg=cv2.resize(img,(300,300))"
   ]
  },
  {
   "cell_type": "code",
   "execution_count": 17,
   "id": "256d257b",
   "metadata": {},
   "outputs": [],
   "source": [
    "gray=cv2.cvtColor(img,cv2.COLOR_BGR2GRAY)"
   ]
  },
  {
   "cell_type": "code",
   "execution_count": 22,
   "id": "583f9859",
   "metadata": {},
   "outputs": [],
   "source": [
    "faces=face_cascade.detectMultiScale(gray,1.5,7)"
   ]
  },
  {
   "cell_type": "code",
   "execution_count": 23,
   "id": "da0ac0e2",
   "metadata": {},
   "outputs": [],
   "source": [
    "for (x,y,w,h) in faces:\n",
    "    cv2.rectangle(img,(x,y),(x+w,y+h),(255,0,0),2)"
   ]
  },
  {
   "cell_type": "code",
   "execution_count": 26,
   "id": "a5b1dddf",
   "metadata": {},
   "outputs": [],
   "source": [
    "cv2.imshow(\"Image Detection\",img)\n",
    "cv2.waitKey()\n",
    "cv2.destroyAllWindows()"
   ]
  },
  {
   "cell_type": "code",
   "execution_count": null,
   "id": "60a81f32",
   "metadata": {},
   "outputs": [],
   "source": []
  },
  {
   "cell_type": "code",
   "execution_count": null,
   "id": "0c948967",
   "metadata": {},
   "outputs": [],
   "source": []
  },
  {
   "cell_type": "code",
   "execution_count": 27,
   "id": "6a74356c",
   "metadata": {},
   "outputs": [],
   "source": [
    "#SIMLE DETECTION"
   ]
  },
  {
   "cell_type": "code",
   "execution_count": 28,
   "id": "153a1aca",
   "metadata": {},
   "outputs": [],
   "source": [
    "import cv2"
   ]
  },
  {
   "cell_type": "code",
   "execution_count": 44,
   "id": "789d389a",
   "metadata": {},
   "outputs": [],
   "source": [
    "face_cascade=cv2.CascadeClassifier(r'C:\\Users\\DS\\Downloads\\haarcascade_smile.xml')"
   ]
  },
  {
   "cell_type": "code",
   "execution_count": 52,
   "id": "cb48e802",
   "metadata": {},
   "outputs": [],
   "source": [
    "img=cv2.imread(r'C:\\Users\\DS\\Downloads\\pp2.jpg')\n",
    "mg=cv2.resize(img,(300,300))"
   ]
  },
  {
   "cell_type": "code",
   "execution_count": 46,
   "id": "e02e20c9",
   "metadata": {},
   "outputs": [],
   "source": [
    "gray=cv2.cvtColor(img,cv2.COLOR_BGR2GRAY)"
   ]
  },
  {
   "cell_type": "code",
   "execution_count": 47,
   "id": "1d11c385",
   "metadata": {},
   "outputs": [],
   "source": [
    "faces=face_cascade.detectMultiScale(gray,5)"
   ]
  },
  {
   "cell_type": "code",
   "execution_count": 48,
   "id": "a0d34fde",
   "metadata": {},
   "outputs": [],
   "source": [
    "for (x,y,w,h) in faces:\n",
    "    cv2.rectangle(img,(x,y),(x+w,y+h),(255,0,0),2)"
   ]
  },
  {
   "cell_type": "code",
   "execution_count": 49,
   "id": "5611343a",
   "metadata": {},
   "outputs": [],
   "source": [
    "cv2.imshow(\"Smile Detection\",img)\n",
    "cv2.waitKey()\n",
    "cv2.destroyAllWindows()"
   ]
  },
  {
   "cell_type": "code",
   "execution_count": null,
   "id": "8f6e1e24",
   "metadata": {},
   "outputs": [],
   "source": []
  },
  {
   "cell_type": "code",
   "execution_count": null,
   "id": "e91235c8",
   "metadata": {},
   "outputs": [],
   "source": []
  },
  {
   "cell_type": "code",
   "execution_count": 50,
   "id": "0485b968",
   "metadata": {},
   "outputs": [],
   "source": [
    "#EYE DETECTION"
   ]
  },
  {
   "cell_type": "code",
   "execution_count": 57,
   "id": "72b3f715",
   "metadata": {},
   "outputs": [],
   "source": [
    "import cv2"
   ]
  },
  {
   "cell_type": "code",
   "execution_count": 58,
   "id": "410441cc",
   "metadata": {},
   "outputs": [],
   "source": [
    "face_cascade=cv2.CascadeClassifier(r'C:\\Users\\DS\\Downloads\\haarcascade_eye.xml')"
   ]
  },
  {
   "cell_type": "code",
   "execution_count": 59,
   "id": "763e0d27",
   "metadata": {},
   "outputs": [],
   "source": [
    "img=cv2.imread(r'C:\\Users\\DS\\Downloads\\pp2.jpg')\n",
    "mg=cv2.resize(img,(300,300))"
   ]
  },
  {
   "cell_type": "code",
   "execution_count": 60,
   "id": "a8962ab8",
   "metadata": {},
   "outputs": [],
   "source": [
    "gray=cv2.cvtColor(img,cv2.COLOR_BGR2GRAY)"
   ]
  },
  {
   "cell_type": "code",
   "execution_count": 72,
   "id": "c06ce768",
   "metadata": {},
   "outputs": [],
   "source": [
    "faces=face_cascade.detectMultiScale(gray,30)"
   ]
  },
  {
   "cell_type": "code",
   "execution_count": 73,
   "id": "b43982f1",
   "metadata": {},
   "outputs": [],
   "source": [
    "for (x,y,w,h) in faces:\n",
    "    cv2.rectangle(img,(x,y),(x+w,y+h),(255,0,0),2)"
   ]
  },
  {
   "cell_type": "code",
   "execution_count": 74,
   "id": "9737cec1",
   "metadata": {},
   "outputs": [],
   "source": [
    "cv2.imshow(\"Eye Detection\",img)\n",
    "cv2.waitKey()\n",
    "cv2.destroyAllWindows()"
   ]
  },
  {
   "cell_type": "code",
   "execution_count": null,
   "id": "1b8b2180",
   "metadata": {},
   "outputs": [],
   "source": []
  },
  {
   "cell_type": "code",
   "execution_count": null,
   "id": "9bcb77a9",
   "metadata": {},
   "outputs": [],
   "source": [
    "#DEEPFACE LIBRARY\n"
   ]
  },
  {
   "cell_type": "code",
   "execution_count": 75,
   "id": "d9a9c6cd",
   "metadata": {},
   "outputs": [
    {
     "name": "stdout",
     "output_type": "stream",
     "text": [
      "Collecting deepface\n",
      "  Downloading deepface-0.0.79-py3-none-any.whl (49 kB)\n",
      "     ---------------------------------------- 49.6/49.6 kB 1.3 MB/s eta 0:00:00\n",
      "Requirement already satisfied: opencv-python>=4.5.5.64 in c:\\users\\ds\\appdata\\local\\anaconda3\\lib\\site-packages (from deepface) (4.8.0.76)\n",
      "Requirement already satisfied: keras>=2.2.0 in c:\\users\\ds\\appdata\\local\\anaconda3\\lib\\site-packages (from deepface) (2.13.1)\n",
      "Collecting gunicorn>=20.1.0\n",
      "  Downloading gunicorn-21.2.0-py3-none-any.whl (80 kB)\n",
      "     ---------------------------------------- 80.2/80.2 kB 4.7 MB/s eta 0:00:00\n",
      "Collecting mtcnn>=0.1.0\n",
      "  Downloading mtcnn-0.1.1-py3-none-any.whl (2.3 MB)\n",
      "     ---------------------------------------- 2.3/2.3 MB 11.1 MB/s eta 0:00:00\n",
      "Requirement already satisfied: tensorflow>=1.9.0 in c:\\users\\ds\\appdata\\local\\anaconda3\\lib\\site-packages (from deepface) (2.13.0)\n",
      "Requirement already satisfied: Flask>=1.1.2 in c:\\users\\ds\\appdata\\local\\anaconda3\\lib\\site-packages (from deepface) (2.2.2)\n",
      "Requirement already satisfied: numpy>=1.14.0 in c:\\users\\ds\\appdata\\local\\anaconda3\\lib\\site-packages (from deepface) (1.23.5)\n",
      "Collecting gdown>=3.10.1\n",
      "  Downloading gdown-4.7.1-py3-none-any.whl (15 kB)\n",
      "Requirement already satisfied: Pillow>=5.2.0 in c:\\users\\ds\\appdata\\local\\anaconda3\\lib\\site-packages (from deepface) (9.4.0)\n",
      "Requirement already satisfied: pandas>=0.23.4 in c:\\users\\ds\\appdata\\local\\anaconda3\\lib\\site-packages (from deepface) (1.5.3)\n",
      "Collecting fire>=0.4.0\n",
      "  Downloading fire-0.5.0.tar.gz (88 kB)\n",
      "     ---------------------------------------- 88.3/88.3 kB ? eta 0:00:00\n",
      "  Preparing metadata (setup.py): started\n",
      "  Preparing metadata (setup.py): finished with status 'done'\n",
      "Collecting retina-face>=0.0.1\n",
      "  Downloading retina_face-0.0.13-py3-none-any.whl (16 kB)\n",
      "Requirement already satisfied: tqdm>=4.30.0 in c:\\users\\ds\\appdata\\local\\anaconda3\\lib\\site-packages (from deepface) (4.64.1)\n",
      "Requirement already satisfied: six in c:\\users\\ds\\appdata\\local\\anaconda3\\lib\\site-packages (from fire>=0.4.0->deepface) (1.16.0)\n",
      "Requirement already satisfied: termcolor in c:\\users\\ds\\appdata\\local\\anaconda3\\lib\\site-packages (from fire>=0.4.0->deepface) (2.3.0)\n",
      "Requirement already satisfied: itsdangerous>=2.0 in c:\\users\\ds\\appdata\\local\\anaconda3\\lib\\site-packages (from Flask>=1.1.2->deepface) (2.0.1)\n",
      "Requirement already satisfied: Jinja2>=3.0 in c:\\users\\ds\\appdata\\local\\anaconda3\\lib\\site-packages (from Flask>=1.1.2->deepface) (3.1.2)\n",
      "Requirement already satisfied: click>=8.0 in c:\\users\\ds\\appdata\\local\\anaconda3\\lib\\site-packages (from Flask>=1.1.2->deepface) (8.0.4)\n",
      "Requirement already satisfied: Werkzeug>=2.2.2 in c:\\users\\ds\\appdata\\local\\anaconda3\\lib\\site-packages (from Flask>=1.1.2->deepface) (2.2.2)\n",
      "Requirement already satisfied: beautifulsoup4 in c:\\users\\ds\\appdata\\local\\anaconda3\\lib\\site-packages (from gdown>=3.10.1->deepface) (4.11.1)\n",
      "Requirement already satisfied: filelock in c:\\users\\ds\\appdata\\local\\anaconda3\\lib\\site-packages (from gdown>=3.10.1->deepface) (3.9.0)\n",
      "Requirement already satisfied: requests[socks] in c:\\users\\ds\\appdata\\local\\anaconda3\\lib\\site-packages (from gdown>=3.10.1->deepface) (2.28.1)\n",
      "Requirement already satisfied: packaging in c:\\users\\ds\\appdata\\local\\anaconda3\\lib\\site-packages (from gunicorn>=20.1.0->deepface) (22.0)\n",
      "Requirement already satisfied: python-dateutil>=2.8.1 in c:\\users\\ds\\appdata\\local\\anaconda3\\lib\\site-packages (from pandas>=0.23.4->deepface) (2.8.2)\n",
      "Requirement already satisfied: pytz>=2020.1 in c:\\users\\ds\\appdata\\local\\anaconda3\\lib\\site-packages (from pandas>=0.23.4->deepface) (2022.7)\n",
      "Requirement already satisfied: tensorflow-intel==2.13.0 in c:\\users\\ds\\appdata\\local\\anaconda3\\lib\\site-packages (from tensorflow>=1.9.0->deepface) (2.13.0)\n",
      "Requirement already satisfied: grpcio<2.0,>=1.24.3 in c:\\users\\ds\\appdata\\local\\anaconda3\\lib\\site-packages (from tensorflow-intel==2.13.0->tensorflow>=1.9.0->deepface) (1.56.0)\n",
      "Requirement already satisfied: flatbuffers>=23.1.21 in c:\\users\\ds\\appdata\\local\\anaconda3\\lib\\site-packages (from tensorflow-intel==2.13.0->tensorflow>=1.9.0->deepface) (23.5.26)\n",
      "Requirement already satisfied: wrapt>=1.11.0 in c:\\users\\ds\\appdata\\local\\anaconda3\\lib\\site-packages (from tensorflow-intel==2.13.0->tensorflow>=1.9.0->deepface) (1.14.1)\n",
      "Requirement already satisfied: gast<=0.4.0,>=0.2.1 in c:\\users\\ds\\appdata\\local\\anaconda3\\lib\\site-packages (from tensorflow-intel==2.13.0->tensorflow>=1.9.0->deepface) (0.4.0)\n",
      "Requirement already satisfied: h5py>=2.9.0 in c:\\users\\ds\\appdata\\local\\anaconda3\\lib\\site-packages (from tensorflow-intel==2.13.0->tensorflow>=1.9.0->deepface) (3.7.0)\n",
      "Requirement already satisfied: setuptools in c:\\users\\ds\\appdata\\local\\anaconda3\\lib\\site-packages (from tensorflow-intel==2.13.0->tensorflow>=1.9.0->deepface) (65.6.3)\n",
      "Requirement already satisfied: protobuf!=4.21.0,!=4.21.1,!=4.21.2,!=4.21.3,!=4.21.4,!=4.21.5,<5.0.0dev,>=3.20.3 in c:\\users\\ds\\appdata\\local\\anaconda3\\lib\\site-packages (from tensorflow-intel==2.13.0->tensorflow>=1.9.0->deepface) (4.21.12)\n",
      "Requirement already satisfied: google-pasta>=0.1.1 in c:\\users\\ds\\appdata\\local\\anaconda3\\lib\\site-packages (from tensorflow-intel==2.13.0->tensorflow>=1.9.0->deepface) (0.2.0)\n",
      "Requirement already satisfied: tensorflow-io-gcs-filesystem>=0.23.1 in c:\\users\\ds\\appdata\\local\\anaconda3\\lib\\site-packages (from tensorflow-intel==2.13.0->tensorflow>=1.9.0->deepface) (0.31.0)\n",
      "Requirement already satisfied: astunparse>=1.6.0 in c:\\users\\ds\\appdata\\local\\anaconda3\\lib\\site-packages (from tensorflow-intel==2.13.0->tensorflow>=1.9.0->deepface) (1.6.3)\n",
      "Requirement already satisfied: tensorflow-estimator<2.14,>=2.13.0 in c:\\users\\ds\\appdata\\local\\anaconda3\\lib\\site-packages (from tensorflow-intel==2.13.0->tensorflow>=1.9.0->deepface) (2.13.0)\n",
      "Requirement already satisfied: tensorboard<2.14,>=2.13 in c:\\users\\ds\\appdata\\local\\anaconda3\\lib\\site-packages (from tensorflow-intel==2.13.0->tensorflow>=1.9.0->deepface) (2.13.0)\n",
      "Requirement already satisfied: absl-py>=1.0.0 in c:\\users\\ds\\appdata\\local\\anaconda3\\lib\\site-packages (from tensorflow-intel==2.13.0->tensorflow>=1.9.0->deepface) (1.4.0)\n",
      "Requirement already satisfied: libclang>=13.0.0 in c:\\users\\ds\\appdata\\local\\anaconda3\\lib\\site-packages (from tensorflow-intel==2.13.0->tensorflow>=1.9.0->deepface) (16.0.0)\n",
      "Collecting typing-extensions<4.6.0,>=3.6.6\n",
      "  Downloading typing_extensions-4.5.0-py3-none-any.whl (27 kB)\n",
      "Requirement already satisfied: opt-einsum>=2.3.2 in c:\\users\\ds\\appdata\\local\\anaconda3\\lib\\site-packages (from tensorflow-intel==2.13.0->tensorflow>=1.9.0->deepface) (3.3.0)\n",
      "Requirement already satisfied: colorama in c:\\users\\ds\\appdata\\local\\anaconda3\\lib\\site-packages (from tqdm>=4.30.0->deepface) (0.4.6)\n",
      "Requirement already satisfied: MarkupSafe>=2.0 in c:\\users\\ds\\appdata\\local\\anaconda3\\lib\\site-packages (from Jinja2>=3.0->Flask>=1.1.2->deepface) (2.1.1)\n",
      "Requirement already satisfied: soupsieve>1.2 in c:\\users\\ds\\appdata\\local\\anaconda3\\lib\\site-packages (from beautifulsoup4->gdown>=3.10.1->deepface) (2.3.2.post1)\n",
      "Requirement already satisfied: certifi>=2017.4.17 in c:\\users\\ds\\appdata\\local\\anaconda3\\lib\\site-packages (from requests[socks]->gdown>=3.10.1->deepface) (2022.12.7)\n",
      "Requirement already satisfied: urllib3<1.27,>=1.21.1 in c:\\users\\ds\\appdata\\local\\anaconda3\\lib\\site-packages (from requests[socks]->gdown>=3.10.1->deepface) (1.26.14)\n",
      "Requirement already satisfied: charset-normalizer<3,>=2 in c:\\users\\ds\\appdata\\local\\anaconda3\\lib\\site-packages (from requests[socks]->gdown>=3.10.1->deepface) (2.0.4)\n",
      "Requirement already satisfied: idna<4,>=2.5 in c:\\users\\ds\\appdata\\local\\anaconda3\\lib\\site-packages (from requests[socks]->gdown>=3.10.1->deepface) (3.4)\n",
      "Requirement already satisfied: PySocks!=1.5.7,>=1.5.6 in c:\\users\\ds\\appdata\\local\\anaconda3\\lib\\site-packages (from requests[socks]->gdown>=3.10.1->deepface) (1.7.1)\n",
      "Requirement already satisfied: wheel<1.0,>=0.23.0 in c:\\users\\ds\\appdata\\local\\anaconda3\\lib\\site-packages (from astunparse>=1.6.0->tensorflow-intel==2.13.0->tensorflow>=1.9.0->deepface) (0.38.4)\n",
      "Requirement already satisfied: markdown>=2.6.8 in c:\\users\\ds\\appdata\\local\\anaconda3\\lib\\site-packages (from tensorboard<2.14,>=2.13->tensorflow-intel==2.13.0->tensorflow>=1.9.0->deepface) (3.4.1)\n",
      "Requirement already satisfied: google-auth<3,>=1.6.3 in c:\\users\\ds\\appdata\\local\\anaconda3\\lib\\site-packages (from tensorboard<2.14,>=2.13->tensorflow-intel==2.13.0->tensorflow>=1.9.0->deepface) (2.21.0)\n",
      "Requirement already satisfied: tensorboard-data-server<0.8.0,>=0.7.0 in c:\\users\\ds\\appdata\\local\\anaconda3\\lib\\site-packages (from tensorboard<2.14,>=2.13->tensorflow-intel==2.13.0->tensorflow>=1.9.0->deepface) (0.7.1)\n",
      "Requirement already satisfied: google-auth-oauthlib<1.1,>=0.5 in c:\\users\\ds\\appdata\\local\\anaconda3\\lib\\site-packages (from tensorboard<2.14,>=2.13->tensorflow-intel==2.13.0->tensorflow>=1.9.0->deepface) (1.0.0)\n",
      "Requirement already satisfied: rsa<5,>=3.1.4 in c:\\users\\ds\\appdata\\local\\anaconda3\\lib\\site-packages (from google-auth<3,>=1.6.3->tensorboard<2.14,>=2.13->tensorflow-intel==2.13.0->tensorflow>=1.9.0->deepface) (4.9)\n",
      "Requirement already satisfied: pyasn1-modules>=0.2.1 in c:\\users\\ds\\appdata\\local\\anaconda3\\lib\\site-packages (from google-auth<3,>=1.6.3->tensorboard<2.14,>=2.13->tensorflow-intel==2.13.0->tensorflow>=1.9.0->deepface) (0.2.8)\n",
      "Requirement already satisfied: cachetools<6.0,>=2.0.0 in c:\\users\\ds\\appdata\\local\\anaconda3\\lib\\site-packages (from google-auth<3,>=1.6.3->tensorboard<2.14,>=2.13->tensorflow-intel==2.13.0->tensorflow>=1.9.0->deepface) (5.3.1)\n",
      "Requirement already satisfied: requests-oauthlib>=0.7.0 in c:\\users\\ds\\appdata\\local\\anaconda3\\lib\\site-packages (from google-auth-oauthlib<1.1,>=0.5->tensorboard<2.14,>=2.13->tensorflow-intel==2.13.0->tensorflow>=1.9.0->deepface) (1.3.1)\n",
      "Requirement already satisfied: pyasn1<0.5.0,>=0.4.6 in c:\\users\\ds\\appdata\\local\\anaconda3\\lib\\site-packages (from pyasn1-modules>=0.2.1->google-auth<3,>=1.6.3->tensorboard<2.14,>=2.13->tensorflow-intel==2.13.0->tensorflow>=1.9.0->deepface) (0.4.8)\n",
      "Requirement already satisfied: oauthlib>=3.0.0 in c:\\users\\ds\\appdata\\local\\anaconda3\\lib\\site-packages (from requests-oauthlib>=0.7.0->google-auth-oauthlib<1.1,>=0.5->tensorboard<2.14,>=2.13->tensorflow-intel==2.13.0->tensorflow>=1.9.0->deepface) (3.2.2)\n",
      "Building wheels for collected packages: fire\n",
      "  Building wheel for fire (setup.py): started\n",
      "  Building wheel for fire (setup.py): finished with status 'done'\n",
      "  Created wheel for fire: filename=fire-0.5.0-py2.py3-none-any.whl size=116947 sha256=09258f8e7be774dd8ea716c3375c61440f0f720fdccc95718f30e2160730c0fb\n",
      "  Stored in directory: c:\\users\\ds\\appdata\\local\\pip\\cache\\wheels\\c4\\eb\\6a\\1c6d2ad660043768e998bdf9c6a28db2f1b7db3a5825d51e87\n",
      "Successfully built fire\n",
      "Installing collected packages: typing-extensions, gunicorn, fire, mtcnn, gdown, retina-face, deepface\n",
      "  Attempting uninstall: typing-extensions\n",
      "    Found existing installation: typing_extensions 4.8.0\n",
      "    Uninstalling typing_extensions-4.8.0:\n",
      "      Successfully uninstalled typing_extensions-4.8.0\n",
      "Successfully installed deepface-0.0.79 fire-0.5.0 gdown-4.7.1 gunicorn-21.2.0 mtcnn-0.1.1 retina-face-0.0.13 typing-extensions-4.5.0\n",
      "Note: you may need to restart the kernel to use updated packages.\n"
     ]
    },
    {
     "name": "stderr",
     "output_type": "stream",
     "text": [
      "ERROR: pip's dependency resolver does not currently take into account all the packages that are installed. This behaviour is the source of the following dependency conflicts.\n",
      "pydantic 2.4.2 requires typing-extensions>=4.6.1, but you have typing-extensions 4.5.0 which is incompatible.\n",
      "pydantic-core 2.10.1 requires typing-extensions!=4.7.0,>=4.6.0, but you have typing-extensions 4.5.0 which is incompatible.\n"
     ]
    }
   ],
   "source": [
    "pip install deepface"
   ]
  },
  {
   "cell_type": "code",
   "execution_count": 99,
   "id": "27e16428",
   "metadata": {},
   "outputs": [],
   "source": [
    "from deepface import DeepFace"
   ]
  },
  {
   "cell_type": "code",
   "execution_count": 89,
   "id": "9fee3a64",
   "metadata": {},
   "outputs": [
    {
     "name": "stderr",
     "output_type": "stream",
     "text": [
      "Action: emotion: 100%|███████████████████████████████████████████████████████████████████| 4/4 [00:02<00:00,  1.48it/s]\n"
     ]
    }
   ],
   "source": [
    "objs = DeepFace.analyze(img_path = r'C:\\Users\\DS\\Downloads\\p1.jpg',              \n",
    "        actions = ['age', 'gender', 'race', 'emotion']\n",
    ")"
   ]
  },
  {
   "cell_type": "code",
   "execution_count": 90,
   "id": "41cc51ef",
   "metadata": {},
   "outputs": [
    {
     "data": {
      "text/plain": [
       "[{'age': 47,\n",
       "  'region': {'x': 259, 'y': 123, 'w': 495, 'h': 495},\n",
       "  'gender': {'Woman': 2.577183977336972e-05, 'Man': 99.99997615814209},\n",
       "  'dominant_gender': 'Man',\n",
       "  'race': {'asian': 0.0006298573146326171,\n",
       "   'indian': 0.010420310611976197,\n",
       "   'black': 0.00024190707413583552,\n",
       "   'white': 91.79997991323351,\n",
       "   'middle eastern': 6.59508818954755,\n",
       "   'latino hispanic': 1.593646315851588},\n",
       "  'dominant_race': 'white',\n",
       "  'emotion': {'angry': 27.817901968955994,\n",
       "   'disgust': 0.00015535688362433575,\n",
       "   'fear': 53.479212522506714,\n",
       "   'happy': 17.884430289268494,\n",
       "   'sad': 0.10948400013148785,\n",
       "   'surprise': 0.001109753611672204,\n",
       "   'neutral': 0.7077112328261137},\n",
       "  'dominant_emotion': 'fear'}]"
      ]
     },
     "execution_count": 90,
     "metadata": {},
     "output_type": "execute_result"
    }
   ],
   "source": [
    "objs"
   ]
  },
  {
   "cell_type": "code",
   "execution_count": 91,
   "id": "64e9ca77",
   "metadata": {},
   "outputs": [
    {
     "name": "stderr",
     "output_type": "stream",
     "text": [
      "Action: age: 100%|███████████████████████████████████████████████████████████████████████| 1/1 [00:00<00:00,  1.08it/s]\n"
     ]
    }
   ],
   "source": [
    "objs = DeepFace.analyze(img_path = r'C:\\Users\\DS\\Downloads\\p1.jpg',              \n",
    "        actions = ['age']\n",
    ")"
   ]
  },
  {
   "cell_type": "code",
   "execution_count": 92,
   "id": "31ee4ee9",
   "metadata": {},
   "outputs": [
    {
     "data": {
      "text/plain": [
       "[{'age': 47, 'region': {'x': 259, 'y': 123, 'w': 495, 'h': 495}}]"
      ]
     },
     "execution_count": 92,
     "metadata": {},
     "output_type": "execute_result"
    }
   ],
   "source": [
    "objs"
   ]
  },
  {
   "cell_type": "code",
   "execution_count": 93,
   "id": "af7aa7da",
   "metadata": {},
   "outputs": [
    {
     "name": "stderr",
     "output_type": "stream",
     "text": [
      "Action: gender: 100%|████████████████████████████████████████████████████████████████████| 1/1 [00:00<00:00,  1.14it/s]\n"
     ]
    }
   ],
   "source": [
    "objs = DeepFace.analyze(img_path = r'C:\\Users\\DS\\Downloads\\p1.jpg',              \n",
    "        actions = ['gender']\n",
    ")"
   ]
  },
  {
   "cell_type": "code",
   "execution_count": 94,
   "id": "d24df506",
   "metadata": {},
   "outputs": [
    {
     "data": {
      "text/plain": [
       "[{'gender': {'Woman': 2.577183977336972e-05, 'Man': 99.99997615814209},\n",
       "  'dominant_gender': 'Man',\n",
       "  'region': {'x': 259, 'y': 123, 'w': 495, 'h': 495}}]"
      ]
     },
     "execution_count": 94,
     "metadata": {},
     "output_type": "execute_result"
    }
   ],
   "source": [
    "objs"
   ]
  },
  {
   "cell_type": "code",
   "execution_count": 95,
   "id": "9780c7d5",
   "metadata": {},
   "outputs": [
    {
     "name": "stderr",
     "output_type": "stream",
     "text": [
      "Action: race: 100%|██████████████████████████████████████████████████████████████████████| 1/1 [00:00<00:00,  1.22it/s]\n"
     ]
    }
   ],
   "source": [
    "objs = DeepFace.analyze(img_path = r'C:\\Users\\DS\\Downloads\\p1.jpg',              \n",
    "        actions = ['race']\n",
    ")"
   ]
  },
  {
   "cell_type": "code",
   "execution_count": 96,
   "id": "6862e64c",
   "metadata": {},
   "outputs": [
    {
     "data": {
      "text/plain": [
       "[{'race': {'asian': 0.0006298573146326171,\n",
       "   'indian': 0.010420310611976197,\n",
       "   'black': 0.00024190707413583552,\n",
       "   'white': 91.79997991323351,\n",
       "   'middle eastern': 6.59508818954755,\n",
       "   'latino hispanic': 1.593646315851588},\n",
       "  'dominant_race': 'white',\n",
       "  'region': {'x': 259, 'y': 123, 'w': 495, 'h': 495}}]"
      ]
     },
     "execution_count": 96,
     "metadata": {},
     "output_type": "execute_result"
    }
   ],
   "source": [
    "objs"
   ]
  },
  {
   "cell_type": "code",
   "execution_count": 97,
   "id": "f483d9a9",
   "metadata": {},
   "outputs": [
    {
     "name": "stderr",
     "output_type": "stream",
     "text": [
      "Action: emotion: 100%|███████████████████████████████████████████████████████████████████| 1/1 [00:00<00:00, 10.34it/s]\n"
     ]
    }
   ],
   "source": [
    "objs = DeepFace.analyze(img_path = r'C:\\Users\\DS\\Downloads\\p1.jpg',              \n",
    "        actions = ['emotion']\n",
    ")"
   ]
  },
  {
   "cell_type": "code",
   "execution_count": 98,
   "id": "46ffc646",
   "metadata": {},
   "outputs": [
    {
     "data": {
      "text/plain": [
       "[{'emotion': {'angry': 27.817901968955994,\n",
       "   'disgust': 0.00015535688362433575,\n",
       "   'fear': 53.479212522506714,\n",
       "   'happy': 17.884430289268494,\n",
       "   'sad': 0.10948400013148785,\n",
       "   'surprise': 0.001109753611672204,\n",
       "   'neutral': 0.7077112328261137},\n",
       "  'dominant_emotion': 'fear',\n",
       "  'region': {'x': 259, 'y': 123, 'w': 495, 'h': 495}}]"
      ]
     },
     "execution_count": 98,
     "metadata": {},
     "output_type": "execute_result"
    }
   ],
   "source": [
    "objs"
   ]
  },
  {
   "cell_type": "code",
   "execution_count": 100,
   "id": "94ee214d",
   "metadata": {},
   "outputs": [
    {
     "name": "stderr",
     "output_type": "stream",
     "text": [
      "Action: emotion: 100%|███████████████████████████████████████████████████████████████████| 4/4 [00:27<00:00,  6.87s/it]\n"
     ]
    }
   ],
   "source": [
    "new = DeepFace.analyze(img_path = r'C:\\Users\\DS\\Downloads\\2176.jpg',              \n",
    "        actions = ['age', 'gender', 'race', 'emotion']\n",
    ")"
   ]
  },
  {
   "cell_type": "code",
   "execution_count": 101,
   "id": "9cfcbce7",
   "metadata": {},
   "outputs": [
    {
     "data": {
      "text/plain": [
       "[{'age': 24,\n",
       "  'region': {'x': 141, 'y': 184, 'w': 455, 'h': 455},\n",
       "  'gender': {'Woman': 2.7696069082594477e-05, 'Man': 99.99997615814209},\n",
       "  'dominant_gender': 'Man',\n",
       "  'race': {'asian': 5.638966394649562e-05,\n",
       "   'indian': 99.92072581772362,\n",
       "   'black': 0.01779810515146584,\n",
       "   'white': 0.0013163415917622503,\n",
       "   'middle eastern': 0.01114426116178065,\n",
       "   'latino hispanic': 0.04896017199703586},\n",
       "  'dominant_race': 'indian',\n",
       "  'emotion': {'angry': 0.1324803219176829,\n",
       "   'disgust': 1.905814469852621e-14,\n",
       "   'fear': 0.002842153116944246,\n",
       "   'happy': 7.463873408219968e-08,\n",
       "   'sad': 0.25024525821208954,\n",
       "   'surprise': 4.1784289916968476e-08,\n",
       "   'neutral': 99.61442947387695},\n",
       "  'dominant_emotion': 'neutral'}]"
      ]
     },
     "execution_count": 101,
     "metadata": {},
     "output_type": "execute_result"
    }
   ],
   "source": [
    "new"
   ]
  },
  {
   "cell_type": "code",
   "execution_count": 1,
   "id": "ef24417f",
   "metadata": {},
   "outputs": [],
   "source": [
    "#different sound libraries"
   ]
  },
  {
   "cell_type": "code",
   "execution_count": 2,
   "id": "84c31221",
   "metadata": {},
   "outputs": [
    {
     "name": "stdout",
     "output_type": "stream",
     "text": [
      "Collecting playsound==1.2.2Note: you may need to restart the kernel to use updated packages.\n",
      "\n",
      "  Downloading playsound-1.2.2-py2.py3-none-any.whl (6.0 kB)\n",
      "Installing collected packages: playsound\n",
      "Successfully installed playsound-1.2.2\n"
     ]
    }
   ],
   "source": [
    "pip install playsound==1.2.2"
   ]
  },
  {
   "cell_type": "code",
   "execution_count": 3,
   "id": "14bb22bb",
   "metadata": {},
   "outputs": [],
   "source": [
    "from playsound import playsound\n",
    "playsound(r\"D:\\python\\AI\\wannabe.mp3\")"
   ]
  },
  {
   "cell_type": "code",
   "execution_count": 8,
   "id": "22ded4df",
   "metadata": {},
   "outputs": [],
   "source": [
    "from playsound import playsound\n",
    "playsound(r\"D:\\python\\AI\\hope.mp3\")"
   ]
  },
  {
   "cell_type": "code",
   "execution_count": null,
   "id": "ce7de1f9",
   "metadata": {},
   "outputs": [],
   "source": []
  },
  {
   "cell_type": "code",
   "execution_count": 10,
   "id": "7d9bc445",
   "metadata": {},
   "outputs": [],
   "source": [
    "#only for wav files\n",
    "import winsound\n",
    "filename = r\"D:\\python\\AI\\wannabe.mp3\"\n",
    "winsound.PlaySound(filename, winsound.SND_FILENAME)"
   ]
  },
  {
   "cell_type": "code",
   "execution_count": null,
   "id": "5b0cb78f",
   "metadata": {},
   "outputs": [],
   "source": []
  },
  {
   "cell_type": "code",
   "execution_count": 12,
   "id": "57b6238f",
   "metadata": {},
   "outputs": [
    {
     "name": "stdout",
     "output_type": "stream",
     "text": [
      "Collecting sounddevice\n",
      "  Downloading sounddevice-0.4.6-py3-none-win_amd64.whl (199 kB)\n",
      "     ---------------------------------------- 0.0/199.7 kB ? eta -:--:--\n",
      "     ------ --------------------------------- 30.7/199.7 kB ? eta -:--:--\n",
      "     ------ --------------------------------- 30.7/199.7 kB ? eta -:--:--\n",
      "     --------------------- ---------------- 112.6/199.7 kB 1.1 MB/s eta 0:00:01\n",
      "     -------------------------------------  194.6/199.7 kB 1.1 MB/s eta 0:00:01\n",
      "     -------------------------------------- 199.7/199.7 kB 1.0 MB/s eta 0:00:00\n",
      "Requirement already satisfied: CFFI>=1.0 in c:\\users\\anto\\anaconda3\\lib\\site-packages (from sounddevice) (1.15.1)\n",
      "Requirement already satisfied: pycparser in c:\\users\\anto\\anaconda3\\lib\\site-packages (from CFFI>=1.0->sounddevice) (2.21)\n",
      "Installing collected packages: sounddevice\n",
      "Successfully installed sounddevice-0.4.6\n",
      "Note: you may need to restart the kernel to use updated packages.\n"
     ]
    }
   ],
   "source": [
    "pip install sounddevice"
   ]
  },
  {
   "cell_type": "code",
   "execution_count": 2,
   "id": "b8965abb",
   "metadata": {
    "scrolled": true
   },
   "outputs": [
    {
     "name": "stdout",
     "output_type": "stream",
     "text": [
      "Collecting soundfile\n",
      "  Downloading soundfile-0.12.1-py2.py3-none-win_amd64.whl (1.0 MB)\n",
      "     ---------------------------------------- 0.0/1.0 MB ? eta -:--:--\n",
      "     ---------------------------------------- 0.0/1.0 MB ? eta -:--:--\n",
      "     ---------------------------------------- 0.0/1.0 MB ? eta -:--:--\n",
      "     -- ------------------------------------- 0.1/1.0 MB 563.7 kB/s eta 0:00:02\n",
      "     ---- ----------------------------------- 0.1/1.0 MB 804.6 kB/s eta 0:00:02\n",
      "     -------- ------------------------------- 0.2/1.0 MB 1.1 MB/s eta 0:00:01\n",
      "     -------- ------------------------------- 0.2/1.0 MB 1.1 MB/s eta 0:00:01\n",
      "     --------- ------------------------------ 0.2/1.0 MB 838.1 kB/s eta 0:00:01\n",
      "     ------------ --------------------------- 0.3/1.0 MB 1.0 MB/s eta 0:00:01\n",
      "     --------------- ------------------------ 0.4/1.0 MB 1.1 MB/s eta 0:00:01\n",
      "     --------------------- ------------------ 0.5/1.0 MB 1.3 MB/s eta 0:00:01\n",
      "     ------------------------- -------------- 0.6/1.0 MB 1.5 MB/s eta 0:00:01\n",
      "     ---------------------------- ----------- 0.7/1.0 MB 1.5 MB/s eta 0:00:01\n",
      "     ---------------------------- ----------- 0.7/1.0 MB 1.5 MB/s eta 0:00:01\n",
      "     ---------------------------- ----------- 0.7/1.0 MB 1.5 MB/s eta 0:00:01\n",
      "     --------------------------------- ------ 0.8/1.0 MB 1.4 MB/s eta 0:00:01\n",
      "     --------------------------------- ------ 0.8/1.0 MB 1.4 MB/s eta 0:00:01\n",
      "     ------------------------------------- -- 0.9/1.0 MB 1.3 MB/s eta 0:00:01\n",
      "     ------------------------------------- -- 0.9/1.0 MB 1.3 MB/s eta 0:00:01\n",
      "     -------------------------------------- - 1.0/1.0 MB 1.2 MB/s eta 0:00:01\n",
      "     -------------------------------------- - 1.0/1.0 MB 1.2 MB/s eta 0:00:01\n",
      "     -------------------------------------- - 1.0/1.0 MB 1.2 MB/s eta 0:00:01\n",
      "     -------------------------------------- - 1.0/1.0 MB 1.2 MB/s eta 0:00:01\n",
      "     -------------------------------------- - 1.0/1.0 MB 1.2 MB/s eta 0:00:01\n",
      "     -------------------------------------- - 1.0/1.0 MB 1.2 MB/s eta 0:00:01\n",
      "     -------------------------------------- - 1.0/1.0 MB 1.2 MB/s eta 0:00:01\n",
      "     ---------------------------------------  1.0/1.0 MB 907.9 kB/s eta 0:00:01\n",
      "     ---------------------------------------- 1.0/1.0 MB 876.2 kB/s eta 0:00:00\n",
      "Requirement already satisfied: cffi>=1.0 in c:\\users\\anto\\anaconda3\\lib\\site-packages (from soundfile) (1.15.1)\n",
      "Requirement already satisfied: pycparser in c:\\users\\anto\\anaconda3\\lib\\site-packages (from cffi>=1.0->soundfile) (2.21)\n",
      "Installing collected packages: soundfile\n",
      "Successfully installed soundfile-0.12.1\n",
      "Note: you may need to restart the kernel to use updated packages.\n"
     ]
    }
   ],
   "source": [
    "pip install soundfile"
   ]
  },
  {
   "cell_type": "code",
   "execution_count": 3,
   "id": "32164da8",
   "metadata": {},
   "outputs": [],
   "source": [
    "#sounddevice\n",
    "import sounddevice as sd\n",
    "import soundfile as sf\n",
    "\n",
    "filename = 'D:\\python\\AI\\wannabe.mp3'\n",
    "\n",
    "data, fs = sf.read(filename, dtype='float32')  \n",
    "sd.play(data, fs)\n",
    "status = sd.wait() "
   ]
  },
  {
   "cell_type": "code",
   "execution_count": null,
   "id": "810171b8",
   "metadata": {},
   "outputs": [],
   "source": []
  },
  {
   "cell_type": "code",
   "execution_count": null,
   "id": "3ba22fcf",
   "metadata": {},
   "outputs": [],
   "source": [
    "#sound device\n"
   ]
  },
  {
   "cell_type": "code",
   "execution_count": 4,
   "id": "f3655641",
   "metadata": {},
   "outputs": [],
   "source": [
    "import sounddevice as sd\n",
    "import soundfile as sf"
   ]
  },
  {
   "cell_type": "code",
   "execution_count": 5,
   "id": "2b95ed84",
   "metadata": {},
   "outputs": [],
   "source": [
    "data, song = sf.read(r'D:\\python\\AI\\wannabe.mp3',dtype='float32')\n",
    "sd.play(data,song)"
   ]
  },
  {
   "cell_type": "code",
   "execution_count": 6,
   "id": "820a64a3",
   "metadata": {},
   "outputs": [],
   "source": [
    "sd.stop()"
   ]
  },
  {
   "cell_type": "code",
   "execution_count": null,
   "id": "535e797d",
   "metadata": {},
   "outputs": [],
   "source": []
  },
  {
   "cell_type": "code",
   "execution_count": null,
   "id": "a47f4040",
   "metadata": {},
   "outputs": [],
   "source": [
    "#recording and saving"
   ]
  },
  {
   "cell_type": "code",
   "execution_count": 8,
   "id": "1cafac43",
   "metadata": {},
   "outputs": [],
   "source": [
    "import sounddevice as sd\n",
    "from scipy.io.wavfile import write \n",
    "\n",
    "fq = 44100 #sample rate(frequency)\n",
    "seconds = 10 # duration of recordings\n",
    "\n",
    "myrecording = sd.rec(int(seconds * fs), samplerate = fq, channels=2)\n",
    "sd.wait() #wait until recording completes\n",
    "write(r'D:\\python\\AI\\recc.mp3',fq, myrecording) #save as mp3 file\n",
    "\n",
    "#if u run again it will rewrite the data to the same file"
   ]
  },
  {
   "cell_type": "code",
   "execution_count": 1,
   "id": "9c8eedd3",
   "metadata": {},
   "outputs": [],
   "source": [
    "#mic to test \n"
   ]
  },
  {
   "cell_type": "code",
   "execution_count": 13,
   "id": "b74c2df6",
   "metadata": {},
   "outputs": [
    {
     "name": "stdout",
     "output_type": "stream",
     "text": [
      "Collecting SpeechRecognition\n",
      "  Obtaining dependency information for SpeechRecognition from https://files.pythonhosted.org/packages/73/8c/74d3b2a7d71e3f18e1e50bf3f168cf3333846137f5723efac3d0dc5a8635/SpeechRecognition-3.10.1-py2.py3-none-any.whl.metadata\n",
      "  Downloading SpeechRecognition-3.10.1-py2.py3-none-any.whl.metadata (28 kB)\n",
      "Requirement already satisfied: requests>=2.26.0 in c:\\users\\anto\\anaconda3\\lib\\site-packages (from SpeechRecognition) (2.31.0)\n",
      "Requirement already satisfied: typing-extensions in c:\\users\\anto\\anaconda3\\lib\\site-packages (from SpeechRecognition) (4.7.1)\n",
      "Requirement already satisfied: charset-normalizer<4,>=2 in c:\\users\\anto\\anaconda3\\lib\\site-packages (from requests>=2.26.0->SpeechRecognition) (2.0.4)\n",
      "Requirement already satisfied: idna<4,>=2.5 in c:\\users\\anto\\anaconda3\\lib\\site-packages (from requests>=2.26.0->SpeechRecognition) (3.4)\n",
      "Requirement already satisfied: urllib3<3,>=1.21.1 in c:\\users\\anto\\anaconda3\\lib\\site-packages (from requests>=2.26.0->SpeechRecognition) (1.26.16)\n",
      "Requirement already satisfied: certifi>=2017.4.17 in c:\\users\\anto\\anaconda3\\lib\\site-packages (from requests>=2.26.0->SpeechRecognition) (2023.7.22)\n",
      "Downloading SpeechRecognition-3.10.1-py2.py3-none-any.whl (32.8 MB)\n",
      "   ---------------------------------------- 0.0/32.8 MB ? eta -:--:--\n",
      "   ---------------------------------------- 0.2/32.8 MB 5.0 MB/s eta 0:00:07\n",
      "    --------------------------------------- 0.6/32.8 MB 7.2 MB/s eta 0:00:05\n",
      "   - -------------------------------------- 0.9/32.8 MB 6.8 MB/s eta 0:00:05\n",
      "   - -------------------------------------- 1.4/32.8 MB 8.6 MB/s eta 0:00:04\n",
      "   -- ------------------------------------- 2.3/32.8 MB 11.1 MB/s eta 0:00:03\n",
      "   --- ------------------------------------ 3.1/32.8 MB 12.4 MB/s eta 0:00:03\n",
      "   ---- ----------------------------------- 3.7/32.8 MB 13.2 MB/s eta 0:00:03\n",
      "   ----- ---------------------------------- 4.4/32.8 MB 13.5 MB/s eta 0:00:03\n",
      "   ----- ---------------------------------- 4.6/32.8 MB 12.4 MB/s eta 0:00:03\n",
      "   ------ --------------------------------- 5.4/32.8 MB 13.2 MB/s eta 0:00:03\n",
      "   ------ --------------------------------- 5.5/32.8 MB 12.5 MB/s eta 0:00:03\n",
      "   ------- -------------------------------- 6.3/32.8 MB 12.6 MB/s eta 0:00:03\n",
      "   -------- ------------------------------- 6.9/32.8 MB 12.9 MB/s eta 0:00:03\n",
      "   --------- ------------------------------ 7.5/32.8 MB 13.0 MB/s eta 0:00:02\n",
      "   ---------- ----------------------------- 8.5/32.8 MB 13.6 MB/s eta 0:00:02\n",
      "   ----------- ---------------------------- 9.4/32.8 MB 14.3 MB/s eta 0:00:02\n",
      "   ------------ --------------------------- 10.3/32.8 MB 14.9 MB/s eta 0:00:02\n",
      "   ------------- -------------------------- 11.2/32.8 MB 17.2 MB/s eta 0:00:02\n",
      "   -------------- ------------------------- 12.1/32.8 MB 17.3 MB/s eta 0:00:02\n",
      "   --------------- ------------------------ 12.8/32.8 MB 17.2 MB/s eta 0:00:02\n",
      "   ---------------- ----------------------- 13.9/32.8 MB 17.7 MB/s eta 0:00:02\n",
      "   ----------------- ---------------------- 14.5/32.8 MB 18.2 MB/s eta 0:00:02\n",
      "   ------------------ --------------------- 15.4/32.8 MB 18.7 MB/s eta 0:00:01\n",
      "   ------------------- -------------------- 16.2/32.8 MB 19.8 MB/s eta 0:00:01\n",
      "   -------------------- ------------------- 16.8/32.8 MB 20.5 MB/s eta 0:00:01\n",
      "   --------------------- ------------------ 17.8/32.8 MB 21.1 MB/s eta 0:00:01\n",
      "   ---------------------- ----------------- 18.6/32.8 MB 20.5 MB/s eta 0:00:01\n",
      "   ----------------------- ---------------- 19.6/32.8 MB 20.5 MB/s eta 0:00:01\n",
      "   ------------------------ --------------- 20.5/32.8 MB 21.1 MB/s eta 0:00:01\n",
      "   -------------------------- ------------- 21.5/32.8 MB 21.1 MB/s eta 0:00:01\n",
      "   --------------------------- ------------ 22.3/32.8 MB 21.1 MB/s eta 0:00:01\n",
      "   --------------------------- ------------ 22.9/32.8 MB 20.5 MB/s eta 0:00:01\n",
      "   ----------------------------- ---------- 24.0/32.8 MB 21.1 MB/s eta 0:00:01\n",
      "   ------------------------------ --------- 25.0/32.8 MB 21.1 MB/s eta 0:00:01\n",
      "   ------------------------------- -------- 26.0/32.8 MB 21.1 MB/s eta 0:00:01\n",
      "   -------------------------------- ------- 26.9/32.8 MB 22.6 MB/s eta 0:00:01\n",
      "   --------------------------------- ------ 27.8/32.8 MB 21.8 MB/s eta 0:00:01\n",
      "   ---------------------------------- ----- 28.7/32.8 MB 22.6 MB/s eta 0:00:01\n",
      "   ------------------------------------ --- 29.7/32.8 MB 22.6 MB/s eta 0:00:01\n",
      "   ------------------------------------- -- 30.4/32.8 MB 21.8 MB/s eta 0:00:01\n",
      "   ------------------------------------- -- 31.0/32.8 MB 21.8 MB/s eta 0:00:01\n",
      "   -------------------------------------- - 31.9/32.8 MB 21.8 MB/s eta 0:00:01\n",
      "   ---------------------------------------  32.8/32.8 MB 21.8 MB/s eta 0:00:01\n",
      "   ---------------------------------------  32.8/32.8 MB 21.8 MB/s eta 0:00:01\n",
      "   ---------------------------------------  32.8/32.8 MB 21.8 MB/s eta 0:00:01\n",
      "   ---------------------------------------  32.8/32.8 MB 21.8 MB/s eta 0:00:01\n",
      "   ---------------------------------------  32.8/32.8 MB 21.8 MB/s eta 0:00:01\n",
      "   ---------------------------------------- 32.8/32.8 MB 14.9 MB/s eta 0:00:00\n",
      "Installing collected packages: SpeechRecognition\n",
      "Successfully installed SpeechRecognition-3.10.1\n",
      "Note: you may need to restart the kernel to use updated packages.\n"
     ]
    }
   ],
   "source": [
    "pip install SpeechRecognition"
   ]
  },
  {
   "cell_type": "code",
   "execution_count": 5,
   "id": "ae5767eb",
   "metadata": {},
   "outputs": [
    {
     "ename": "AttributeError",
     "evalue": "Could not find PyAudio; check installation",
     "output_type": "error",
     "traceback": [
      "\u001b[1;31m---------------------------------------------------------------------------\u001b[0m",
      "\u001b[1;31mModuleNotFoundError\u001b[0m                       Traceback (most recent call last)",
      "File \u001b[1;32m~\\anaconda3\\Lib\\site-packages\\speech_recognition\\__init__.py:108\u001b[0m, in \u001b[0;36mMicrophone.get_pyaudio\u001b[1;34m()\u001b[0m\n\u001b[0;32m    107\u001b[0m \u001b[38;5;28;01mtry\u001b[39;00m:\n\u001b[1;32m--> 108\u001b[0m     \u001b[38;5;28;01mimport\u001b[39;00m \u001b[38;5;21;01mpyaudio\u001b[39;00m\n\u001b[0;32m    109\u001b[0m \u001b[38;5;28;01mexcept\u001b[39;00m \u001b[38;5;167;01mImportError\u001b[39;00m:\n",
      "\u001b[1;31mModuleNotFoundError\u001b[0m: No module named 'pyaudio'",
      "\nDuring handling of the above exception, another exception occurred:\n",
      "\u001b[1;31mAttributeError\u001b[0m                            Traceback (most recent call last)",
      "Cell \u001b[1;32mIn[5], line 3\u001b[0m\n\u001b[0;32m      1\u001b[0m \u001b[38;5;28;01mimport\u001b[39;00m \u001b[38;5;21;01mspeech_recognition\u001b[39;00m \u001b[38;5;28;01mas\u001b[39;00m \u001b[38;5;21;01msr\u001b[39;00m\n\u001b[0;32m      2\u001b[0m r \u001b[38;5;241m=\u001b[39m sr\u001b[38;5;241m.\u001b[39mRecognizer()\n\u001b[1;32m----> 3\u001b[0m mic \u001b[38;5;241m=\u001b[39m sr\u001b[38;5;241m.\u001b[39mMicrophone()\n\u001b[0;32m      4\u001b[0m \u001b[38;5;28;01mwith\u001b[39;00m mic \u001b[38;5;28;01mas\u001b[39;00m source:\n\u001b[0;32m      5\u001b[0m     audio \u001b[38;5;241m=\u001b[39m r\u001b[38;5;241m.\u001b[39mListen(source)\n",
      "File \u001b[1;32m~\\anaconda3\\Lib\\site-packages\\speech_recognition\\__init__.py:80\u001b[0m, in \u001b[0;36mMicrophone.__init__\u001b[1;34m(self, device_index, sample_rate, chunk_size)\u001b[0m\n\u001b[0;32m     77\u001b[0m \u001b[38;5;28;01massert\u001b[39;00m \u001b[38;5;28misinstance\u001b[39m(chunk_size, \u001b[38;5;28mint\u001b[39m) \u001b[38;5;129;01mand\u001b[39;00m chunk_size \u001b[38;5;241m>\u001b[39m \u001b[38;5;241m0\u001b[39m, \u001b[38;5;124m\"\u001b[39m\u001b[38;5;124mChunk size must be a positive integer\u001b[39m\u001b[38;5;124m\"\u001b[39m\n\u001b[0;32m     79\u001b[0m \u001b[38;5;66;03m# set up PyAudio\u001b[39;00m\n\u001b[1;32m---> 80\u001b[0m \u001b[38;5;28mself\u001b[39m\u001b[38;5;241m.\u001b[39mpyaudio_module \u001b[38;5;241m=\u001b[39m \u001b[38;5;28mself\u001b[39m\u001b[38;5;241m.\u001b[39mget_pyaudio()\n\u001b[0;32m     81\u001b[0m audio \u001b[38;5;241m=\u001b[39m \u001b[38;5;28mself\u001b[39m\u001b[38;5;241m.\u001b[39mpyaudio_module\u001b[38;5;241m.\u001b[39mPyAudio()\n\u001b[0;32m     82\u001b[0m \u001b[38;5;28;01mtry\u001b[39;00m:\n",
      "File \u001b[1;32m~\\anaconda3\\Lib\\site-packages\\speech_recognition\\__init__.py:110\u001b[0m, in \u001b[0;36mMicrophone.get_pyaudio\u001b[1;34m()\u001b[0m\n\u001b[0;32m    108\u001b[0m     \u001b[38;5;28;01mimport\u001b[39;00m \u001b[38;5;21;01mpyaudio\u001b[39;00m\n\u001b[0;32m    109\u001b[0m \u001b[38;5;28;01mexcept\u001b[39;00m \u001b[38;5;167;01mImportError\u001b[39;00m:\n\u001b[1;32m--> 110\u001b[0m     \u001b[38;5;28;01mraise\u001b[39;00m \u001b[38;5;167;01mAttributeError\u001b[39;00m(\u001b[38;5;124m\"\u001b[39m\u001b[38;5;124mCould not find PyAudio; check installation\u001b[39m\u001b[38;5;124m\"\u001b[39m)\n\u001b[0;32m    111\u001b[0m \u001b[38;5;28;01mfrom\u001b[39;00m \u001b[38;5;21;01mdistutils\u001b[39;00m\u001b[38;5;21;01m.\u001b[39;00m\u001b[38;5;21;01mversion\u001b[39;00m \u001b[38;5;28;01mimport\u001b[39;00m LooseVersion\n\u001b[0;32m    112\u001b[0m \u001b[38;5;28;01mif\u001b[39;00m LooseVersion(pyaudio\u001b[38;5;241m.\u001b[39m__version__) \u001b[38;5;241m<\u001b[39m LooseVersion(\u001b[38;5;124m\"\u001b[39m\u001b[38;5;124m0.2.11\u001b[39m\u001b[38;5;124m\"\u001b[39m):\n",
      "\u001b[1;31mAttributeError\u001b[0m: Could not find PyAudio; check installation"
     ]
    }
   ],
   "source": [
    "import speech_recognition as sr\n",
    "r = sr.Recognizer()\n",
    "mic = sr.Microphone()\n",
    "with mic as source:\n",
    "    audio = r.Listen(source)\n",
    "r.recognize_google(audio)    "
   ]
  },
  {
   "cell_type": "code",
   "execution_count": 6,
   "id": "bb8e5fd6",
   "metadata": {},
   "outputs": [
    {
     "name": "stdout",
     "output_type": "stream",
     "text": [
      "Collecting PyAudio\n",
      "  Obtaining dependency information for PyAudio from https://files.pythonhosted.org/packages/82/d8/f043c854aad450a76e476b0cf9cda1956419e1dacf1062eb9df3c0055abe/PyAudio-0.2.14-cp311-cp311-win_amd64.whl.metadata\n",
      "  Downloading PyAudio-0.2.14-cp311-cp311-win_amd64.whl.metadata (2.7 kB)\n",
      "Downloading PyAudio-0.2.14-cp311-cp311-win_amd64.whl (164 kB)\n",
      "   ---------------------------------------- 0.0/164.1 kB ? eta -:--:--\n",
      "   ------- -------------------------------- 30.7/164.1 kB ? eta -:--:--\n",
      "   ------- -------------------------------- 30.7/164.1 kB ? eta -:--:--\n",
      "   --------------------------- ------------ 112.6/164.1 kB 1.3 MB/s eta 0:00:01\n",
      "   --------------------------- ------------ 112.6/164.1 kB 1.3 MB/s eta 0:00:01\n",
      "   -------------------------------------  163.8/164.1 kB 893.0 kB/s eta 0:00:01\n",
      "   -------------------------------------- 164.1/164.1 kB 702.4 kB/s eta 0:00:00\n",
      "Installing collected packages: PyAudio\n",
      "Successfully installed PyAudio-0.2.14\n",
      "Note: you may need to restart the kernel to use updated packages.\n"
     ]
    }
   ],
   "source": [
    "pip install PyAudio"
   ]
  },
  {
   "cell_type": "code",
   "execution_count": 4,
   "id": "48e050c6",
   "metadata": {},
   "outputs": [
    {
     "data": {
      "text/plain": [
       "'hay hello hello hello hello hello hello'"
      ]
     },
     "execution_count": 4,
     "metadata": {},
     "output_type": "execute_result"
    }
   ],
   "source": [
    "#mic to test \n",
    "\n",
    "\n",
    "import speech_recognition as sr\n",
    "r = sr.Recognizer()\n",
    "mic = sr.Microphone()\n",
    "with mic as source:\n",
    "    audio = r.listen(source)\n",
    "r.recognize_google(audio) "
   ]
  },
  {
   "cell_type": "code",
   "execution_count": 5,
   "id": "48c23295",
   "metadata": {},
   "outputs": [],
   "source": [
    "#audio file to text"
   ]
  },
  {
   "cell_type": "code",
   "execution_count": 20,
   "id": "0b324442",
   "metadata": {},
   "outputs": [
    {
     "data": {
      "text/plain": [
       "'I Wanna Be Your back in cleanliness baby I just want to be yourself'"
      ]
     },
     "execution_count": 20,
     "metadata": {},
     "output_type": "execute_result"
    }
   ],
   "source": [
    "import soundfile\n",
    "import speech_recognition as sr \n",
    "import numpy as np \n",
    "sr.__version__\n",
    "r = sr.Recognizer()\n",
    "\n",
    "data,samplerate = soundfile.read(r'D:\\python\\AI\\wannabe.mp3')\n",
    "soundfile.write(r'D:\\python\\AI\\new.wav',data, samplerate, subtype='PCM_16')\n",
    "wannabee = sr.AudioFile(r'D:\\python\\AI\\new.wav')\n",
    "with wannabee as source:\n",
    "    #r.adjust_for_ambient_noise(source)\n",
    "    audio = r.record(source)\n",
    "type(audio)\n",
    "r.recognize_google(audio)"
   ]
  },
  {
   "cell_type": "code",
   "execution_count": null,
   "id": "1992ca65",
   "metadata": {},
   "outputs": [],
   "source": []
  },
  {
   "cell_type": "code",
   "execution_count": 9,
   "id": "7bc5a0b1",
   "metadata": {},
   "outputs": [],
   "source": [
    "#reduce noice"
   ]
  },
  {
   "cell_type": "code",
   "execution_count": 21,
   "id": "058f97d2",
   "metadata": {},
   "outputs": [
    {
     "data": {
      "text/plain": [
       "'I Wanna Be Your back please clean'"
      ]
     },
     "execution_count": 21,
     "metadata": {},
     "output_type": "execute_result"
    }
   ],
   "source": [
    "bb= sr.AudioFile(r'D:\\python\\AI\\wannabe1.wav')\n",
    "with bb as source:\n",
    "    r.adjust_for_ambient_noise(source)\n",
    "    audio = r.record(source)\n",
    "r.recognize_google(audio)"
   ]
  },
  {
   "cell_type": "code",
   "execution_count": null,
   "id": "1aace3f3",
   "metadata": {},
   "outputs": [],
   "source": []
  },
  {
   "cell_type": "code",
   "execution_count": 1,
   "id": "cbe83007",
   "metadata": {},
   "outputs": [],
   "source": [
    "#video capture"
   ]
  },
  {
   "cell_type": "code",
   "execution_count": 2,
   "id": "773bd736",
   "metadata": {},
   "outputs": [],
   "source": [
    "import cv2 as cv\n",
    "cam = cv.VideoCapture(0, cv.CAP_DSHOW)\n",
    "if not cam.isOpened():\n",
    "    print(\"cam error\")\n",
    "while True:\n",
    "    status, frame = cam.read()\n",
    "    \n",
    "    if not status:\n",
    "        print(\"cannot receive frame\")\n",
    "        \n",
    "    cv.imshow(\"video\",frame)    \n",
    "    \n",
    "    if cv.waitKey(1) ==ord('q'):\n",
    "        break\n",
    " \n",
    "cam.release()\n",
    "cv.destroyAllWindows()\n"
   ]
  },
  {
   "cell_type": "code",
   "execution_count": null,
   "id": "9605ddc7",
   "metadata": {},
   "outputs": [],
   "source": []
  },
  {
   "cell_type": "code",
   "execution_count": 3,
   "id": "83bf9508",
   "metadata": {},
   "outputs": [],
   "source": [
    "#Face REcognition\n"
   ]
  },
  {
   "cell_type": "code",
   "execution_count": 12,
   "id": "32a52b69",
   "metadata": {},
   "outputs": [],
   "source": [
    "import cv2\n",
    "import csv\n",
    "import numpy as np\n",
    "import face_recognition\n",
    "import os\n",
    "from datetime import datetime"
   ]
  },
  {
   "cell_type": "code",
   "execution_count": 13,
   "id": "617af8f8",
   "metadata": {},
   "outputs": [
    {
     "name": "stdout",
     "output_type": "stream",
     "text": [
      "['ANTO.jpg', 'doni.jpg', 'surya.jpg']\n"
     ]
    }
   ],
   "source": [
    "path = r'D:\\python\\AI\\py_img'\n",
    "images = []\n",
    "classNames = []\n",
    "myList = os.listdir(path)\n",
    "print(myList)"
   ]
  },
  {
   "cell_type": "code",
   "execution_count": 14,
   "id": "d35fa190",
   "metadata": {},
   "outputs": [
    {
     "name": "stdout",
     "output_type": "stream",
     "text": [
      "['ANTO', 'doni', 'surya']\n"
     ]
    }
   ],
   "source": [
    "for cl in myList:\n",
    "    curImg = cv2.imread(f'{path}/{cl}')\n",
    "    images.append(curImg)\n",
    "    classNames.append(os.path.splitext(cl)[0])\n",
    "print(classNames)"
   ]
  },
  {
   "cell_type": "code",
   "execution_count": 15,
   "id": "f2223e5f",
   "metadata": {},
   "outputs": [],
   "source": [
    "def findEncodings(images):\n",
    "    encodeList =[]\n",
    "    for img in images:\n",
    "        img = cv2.cvtColor(img, cv2.COLOR_BGR2RGB)\n",
    "        encode = face_recognition.face_encodings(img)[0]\n",
    "        encodeList.append(encode)\n",
    "    return encodeList"
   ]
  },
  {
   "cell_type": "code",
   "execution_count": 16,
   "id": "85b8ce5d",
   "metadata": {},
   "outputs": [],
   "source": [
    "def markAttendance(name):\n",
    "    now = datetime.now()\n",
    "    current_date = now.strftime(\"%Y-%m-%d\")\n",
    "    f = open(current_date+'.csv','w+', newline='')\n",
    "    lnwriter = csv.writer(f)\n",
    "    myDataList = f.readlines()\n",
    "    nameList = []\n",
    "    for line in myDataList:\n",
    "        entry = line.split(',')\n",
    "        nameList.append(entry[0])\n",
    "    if name not in nameList:\n",
    "        time_now = datetime.now()\n",
    "        tString = time_now.strftime('%H:%M:%S')\n",
    "        dString = time_now.strftime('%d/%m/%Y')\n",
    "        f.writelines(f'\\n{name},{tString},{dString}')"
   ]
  },
  {
   "cell_type": "code",
   "execution_count": 17,
   "id": "f2adc6f7",
   "metadata": {},
   "outputs": [
    {
     "name": "stdout",
     "output_type": "stream",
     "text": [
      "Encoding Complete\n"
     ]
    }
   ],
   "source": [
    "encodeListKnown = findEncodings(images)\n",
    "print('Encoding Complete')"
   ]
  },
  {
   "cell_type": "code",
   "execution_count": 22,
   "id": "0524d6d1",
   "metadata": {},
   "outputs": [
    {
     "name": "stdout",
     "output_type": "stream",
     "text": [
      "ANTO\n",
      "ANTO\n",
      "ANTO\n",
      "ANTO\n",
      "ANTO\n",
      "ANTO\n",
      "ANTO\n",
      "ANTO\n",
      "ANTO\n",
      "ANTO\n",
      "ANTO\n"
     ]
    }
   ],
   "source": [
    "cap = cv2.VideoCapture(0)\n",
    "\n",
    "while True:\n",
    "    success, img = cap.read()\n",
    "    imgS = cv2.resize(img, (0, 0), None, 0.25, 0.25)\n",
    "    imgS = cv2.cvtColor(imgS, cv2.COLOR_BGR2RGB)\n",
    "\n",
    "    facesCurFrame = face_recognition.face_locations(imgS)\n",
    "    encodesCurFrame = face_recognition.face_encodings(imgS, facesCurFrame)\n",
    "\n",
    "    for encodeFace, faceLoc in zip(encodesCurFrame, facesCurFrame):\n",
    "        matches = face_recognition.compare_faces(encodeListKnown, encodeFace)\n",
    "        faceDis = face_recognition.face_distance(encodeListKnown, encodeFace)\n",
    "        #print(faceDis)\n",
    "        matchIndex = np.argmin(faceDis)\n",
    "        if matches[matchIndex]:\n",
    "            name = classNames[matchIndex].upper()\n",
    "            print(name)\n",
    "            y1, x2, y2, x1 = faceLoc\n",
    "            y1, x2, y2, x1 = y1*4, x2*4, y2*4, x1*4\n",
    "            cv2.rectangle(img, (x1, y1), (x2, y2), (0, 255, 0), 2)\n",
    "            cv2.rectangle(img, (x1, y2-35), (x2, y2), (0, 250, 0), cv2.FILLED)\n",
    "            cv2.putText(img, name, (x1+6, y2-6), cv2.FONT_HERSHEY_COMPLEX, 1, (255, 255, 255), 2)\n",
    "            markAttendance(name)\n",
    "        else:\n",
    "            name ='UnKnown'\n",
    "            print(name)\n",
    "            y1, x2, y2, x1 = faceLoc\n",
    "            y1, x2, y2, x1 = y1*4, x2*4, y2*4, x1*4\n",
    "            cv2.rectangle(img, (x1, y1), (x2, y2), (0, 255, 0), 2)\n",
    "            cv2.rectangle(img, (x1, y2-35), (x2, y2), (0, 250, 0), cv2.FILLED)\n",
    "            cv2.putText(img, name, (x1+6, y2-6), cv2.FONT_HERSHEY_COMPLEX, 1, (255, 255, 255), 2)\n",
    "            \n",
    "    cv2.imshow('webcam', img)\n",
    "    if cv2.waitKey(1) & 0xFF == ord('q'):\n",
    "        break\n",
    "cap.release()\n",
    "cv2.destroyAllWindows()\n",
    "\n",
    "\n",
    "#attendance also marked in another file"
   ]
  },
  {
   "cell_type": "code",
   "execution_count": null,
   "id": "5706f415",
   "metadata": {},
   "outputs": [],
   "source": []
  },
  {
   "cell_type": "code",
   "execution_count": null,
   "id": "994b3db5",
   "metadata": {},
   "outputs": [],
   "source": []
  }
 ],
 "metadata": {
  "kernelspec": {
   "display_name": "Python 3 (ipykernel)",
   "language": "python",
   "name": "python3"
  },
  "language_info": {
   "codemirror_mode": {
    "name": "ipython",
    "version": 3
   },
   "file_extension": ".py",
   "mimetype": "text/x-python",
   "name": "python",
   "nbconvert_exporter": "python",
   "pygments_lexer": "ipython3",
   "version": "3.11.4"
  }
 },
 "nbformat": 4,
 "nbformat_minor": 5
}
